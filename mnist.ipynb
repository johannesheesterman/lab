{
  "nbformat": 4,
  "nbformat_minor": 0,
  "metadata": {
    "colab": {
      "provenance": [],
      "collapsed_sections": [],
      "authorship_tag": "ABX9TyOO86XtlLTw5IVSr/bLZ5+b",
      "include_colab_link": true
    },
    "kernelspec": {
      "name": "python3",
      "display_name": "Python 3"
    },
    "language_info": {
      "name": "python"
    }
  },
  "cells": [
    {
      "cell_type": "markdown",
      "metadata": {
        "id": "view-in-github",
        "colab_type": "text"
      },
      "source": [
        "<a href=\"https://colab.research.google.com/github/johannesheesterman/lab/blob/main/mnist.ipynb\" target=\"_parent\"><img src=\"https://colab.research.google.com/assets/colab-badge.svg\" alt=\"Open In Colab\"/></a>"
      ]
    },
    {
      "cell_type": "code",
      "execution_count": 27,
      "metadata": {
        "id": "Yv50WUal9nRJ"
      },
      "outputs": [],
      "source": [
        "import torch\n",
        "import torch.nn as nn\n",
        "import numpy as np\n",
        "import pandas as pd\n",
        "import matplotlib.pyplot as plt\n",
        "from tqdm import trange"
      ]
    },
    {
      "cell_type": "code",
      "source": [
        "mnist_test = pd.read_csv('sample_data/mnist_test.csv').to_numpy()\n",
        "mnist_train = pd.read_csv('sample_data/mnist_train_small.csv').to_numpy()\n",
        "\n",
        "test_labels = mnist_test[::, :1].flatten()\n",
        "test_data = mnist_test[::, 1:]\n",
        "\n",
        "train_labels = mnist_train[::, :1].flatten()\n",
        "train_data = mnist_train[::, 1:]"
      ],
      "metadata": {
        "id": "8yxI7qeB-rGD"
      },
      "execution_count": 22,
      "outputs": []
    },
    {
      "cell_type": "code",
      "source": [
        "plt.imshow(train_data[0].reshape(28, 28))"
      ],
      "metadata": {
        "colab": {
          "base_uri": "https://localhost:8080/",
          "height": 282
        },
        "id": "NSjBet0MB1OY",
        "outputId": "14be13d8-0cdb-4949-b692-6822f543f963"
      },
      "execution_count": 23,
      "outputs": [
        {
          "output_type": "execute_result",
          "data": {
            "text/plain": [
              "<matplotlib.image.AxesImage at 0x7fa49a06a090>"
            ]
          },
          "metadata": {},
          "execution_count": 23
        },
        {
          "output_type": "display_data",
          "data": {
            "text/plain": [
              "<Figure size 432x288 with 1 Axes>"
            ],
            "image/png": "[encoded data removed]"
          },
          "metadata": {
            "needs_background": "light"
          }
        }
      ]
    },
    {
      "cell_type": "code",
      "source": [
        "class NNet(torch.nn.Module):\n",
        "  def __init__(self):\n",
        "    super().__init__()\n",
        "    self.l1 = nn.Linear(784, 128)\n",
        "    self.act = nn.ReLU()\n",
        "    self.l2 = nn.Linear(128, 10)\n",
        "  \n",
        "  def forward(self, x):\n",
        "    x = self.l1(x)\n",
        "    x = self.act(x)\n",
        "    x = self.l2(x)\n",
        "    return x\n",
        "\n",
        "model = NNet()"
      ],
      "metadata": {
        "id": "ApHq6KdK_e3d"
      },
      "execution_count": 30,
      "outputs": []
    },
    {
      "cell_type": "code",
      "source": [
        "bs = 32\n",
        "loss_function = nn.CrossEntropyLoss()\n",
        "optimizer = torch.optim.Adam(model.parameters())\n",
        "\n",
        "t = trange(1000)\n",
        "for i in t:\n",
        "  samp = np.random.randint(0, len(train_labels), size=(bs))\n",
        "  optimizer.zero_grad()\n",
        "  out = model(torch.tensor(train_data[samp]).float())\n",
        "  \n",
        "  loss = loss_function(out, torch.tensor(train_labels[samp]))\n",
        "  loss.backward()\n",
        "  optimizer.step()\n"
      ],
      "metadata": {
        "colab": {
          "base_uri": "https://localhost:8080/"
        },
        "id": "Wg9TsoUoB_xU",
        "outputId": "6d68138e-2e68-4539-b69b-16259105a0cf"
      },
      "execution_count": 31,
      "outputs": [
        {
          "output_type": "stream",
          "name": "stderr",
          "text": [
            "100%|██████████| 1000/1000 [00:08<00:00, 115.52it/s]\n"
          ]
        }
      ]
    },
    {
      "cell_type": "code",
      "source": [
        "ix = 6\n",
        "plt.imshow(test_data[ix].reshape(28, 28))\n",
        "torch.argmax(model(torch.tensor(test_data[ix]).float())).item()"
      ],
      "metadata": {
        "colab": {
          "base_uri": "https://localhost:8080/",
          "height": 282
        },
        "id": "0BvELOFOEHxh",
        "outputId": "530f4046-6fa4-4d0f-de3e-cebffac507a7"
      },
      "execution_count": 39,
      "outputs": [
        {
          "output_type": "execute_result",
          "data": {
            "text/plain": [
              "9"
            ]
          },
          "metadata": {},
          "execution_count": 39
        },
        {
          "output_type": "display_data",
          "data": {
            "text/plain": [
              "<Figure size 432x288 with 1 Axes>"
            ],
            "image/png": "[encoded data removed]"
          },
          "metadata": {
            "needs_background": "light"
          }
        }
      ]
    }
  ]
}